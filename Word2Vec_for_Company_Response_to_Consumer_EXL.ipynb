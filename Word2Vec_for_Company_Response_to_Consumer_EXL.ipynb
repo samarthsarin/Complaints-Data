{
  "nbformat": 4,
  "nbformat_minor": 0,
  "metadata": {
    "colab": {
      "name": "Word2Vec for Company Response to Consumer EXL",
      "provenance": [],
      "collapsed_sections": [],
      "machine_shape": "hm"
    },
    "kernelspec": {
      "name": "python3",
      "display_name": "Python 3"
    },
    "accelerator": "GPU"
  },
  "cells": [
    {
      "cell_type": "code",
      "metadata": {
        "id": "oTxLbquFIO8G",
        "colab_type": "code",
        "outputId": "07122d9f-477a-4573-93e1-1858930a92b9",
        "colab": {
          "base_uri": "https://localhost:8080/",
          "height": 122
        }
      },
      "source": [
        "from google.colab import drive\n",
        "drive.mount('/content/drive')"
      ],
      "execution_count": 0,
      "outputs": [
        {
          "output_type": "stream",
          "text": [
            "Go to this URL in a browser: https://accounts.google.com/o/oauth2/auth?client_id=947318989803-6bn6qk8qdgf4n4g3pfee6491hc0brc4i.apps.googleusercontent.com&redirect_uri=urn%3aietf%3awg%3aoauth%3a2.0%3aoob&response_type=code&scope=email%20https%3a%2f%2fwww.googleapis.com%2fauth%2fdocs.test%20https%3a%2f%2fwww.googleapis.com%2fauth%2fdrive%20https%3a%2f%2fwww.googleapis.com%2fauth%2fdrive.photos.readonly%20https%3a%2f%2fwww.googleapis.com%2fauth%2fpeopleapi.readonly\n",
            "\n",
            "Enter your authorization code:\n",
            "··········\n",
            "Mounted at /content/drive\n"
          ],
          "name": "stdout"
        }
      ]
    },
    {
      "cell_type": "code",
      "metadata": {
        "id": "KaT127m3Isdp",
        "colab_type": "code",
        "colab": {}
      },
      "source": [
        "import pandas as pd\n",
        "import numpy as np\n",
        "import tensorflow as tf\n",
        "from tqdm import tqdm\n",
        "tqdm.pandas()\n",
        "from tensorflow.keras.models import Sequential\n",
        "from tensorflow.keras.layers import Embedding,GRU,Bidirectional,Convolution1D,Dense,GlobalMaxPool1D\n",
        "from tensorflow.keras.preprocessing.text import Tokenizer\n",
        "from tensorflow.keras.preprocessing.sequence import pad_sequences\n",
        "from tensorflow.keras.utils import to_categorical\n",
        "from sklearn.preprocessing import LabelEncoder\n",
        "from gensim.models import KeyedVectors"
      ],
      "execution_count": 0,
      "outputs": []
    },
    {
      "cell_type": "code",
      "metadata": {
        "id": "n3ixb5RKJdbc",
        "colab_type": "code",
        "outputId": "c5e4aa40-ea9b-43d8-ebc7-38b8b8cbc3fb",
        "colab": {
          "base_uri": "https://localhost:8080/",
          "height": 306
        }
      },
      "source": [
        "df = pd.read_csv('/content/drive/My Drive/EXL Data/Company response to consumer.csv')\n",
        "df.head()"
      ],
      "execution_count": 0,
      "outputs": [
        {
          "output_type": "execute_result",
          "data": {
            "text/html": [
              "<div>\n",
              "<style scoped>\n",
              "    .dataframe tbody tr th:only-of-type {\n",
              "        vertical-align: middle;\n",
              "    }\n",
              "\n",
              "    .dataframe tbody tr th {\n",
              "        vertical-align: top;\n",
              "    }\n",
              "\n",
              "    .dataframe thead th {\n",
              "        text-align: right;\n",
              "    }\n",
              "</style>\n",
              "<table border=\"1\" class=\"dataframe\">\n",
              "  <thead>\n",
              "    <tr style=\"text-align: right;\">\n",
              "      <th></th>\n",
              "      <th>Consumer complaint narrative</th>\n",
              "      <th>Total Clean Text</th>\n",
              "      <th>After Stop Word Removal</th>\n",
              "      <th>Company response to consumer</th>\n",
              "      <th>Complaint ID</th>\n",
              "    </tr>\n",
              "  </thead>\n",
              "  <tbody>\n",
              "    <tr>\n",
              "      <th>0</th>\n",
              "      <td>transworld systems inc. \\nis trying to collect...</td>\n",
              "      <td>trans world systems inc be try to collect  deb...</td>\n",
              "      <td>trans world systems inc try collect debt mine ...</td>\n",
              "      <td>Closed with explanation</td>\n",
              "      <td>3384392</td>\n",
              "    </tr>\n",
              "    <tr>\n",
              "      <th>1</th>\n",
              "      <td>I would like to request the suppression of the...</td>\n",
              "      <td>would like to request the suppression of the ...</td>\n",
              "      <td>would like request suppression follow items cr...</td>\n",
              "      <td>Closed with explanation</td>\n",
              "      <td>3417821</td>\n",
              "    </tr>\n",
              "    <tr>\n",
              "      <th>2</th>\n",
              "      <td>Over the past 2 weeks, I have been receiving e...</td>\n",
              "      <td>over the past  weeks  have be receive excessiv...</td>\n",
              "      <td>past weeks receive excessive amount telephone ...</td>\n",
              "      <td>Closed with explanation</td>\n",
              "      <td>3433198</td>\n",
              "    </tr>\n",
              "    <tr>\n",
              "      <th>3</th>\n",
              "      <td>I was sold access to an event digitally, of wh...</td>\n",
              "      <td>be sell access to an event digitally of which...</td>\n",
              "      <td>sell access event digitally screenshots detail...</td>\n",
              "      <td>Closed with explanation</td>\n",
              "      <td>3366475</td>\n",
              "    </tr>\n",
              "    <tr>\n",
              "      <th>4</th>\n",
              "      <td>While checking my credit report I noticed thre...</td>\n",
              "      <td>while check my credit report  notice three col...</td>\n",
              "      <td>check credit report notice three collections c...</td>\n",
              "      <td>Closed with explanation</td>\n",
              "      <td>3385399</td>\n",
              "    </tr>\n",
              "  </tbody>\n",
              "</table>\n",
              "</div>"
            ],
            "text/plain": [
              "                        Consumer complaint narrative  ... Complaint ID\n",
              "0  transworld systems inc. \\nis trying to collect...  ...      3384392\n",
              "1  I would like to request the suppression of the...  ...      3417821\n",
              "2  Over the past 2 weeks, I have been receiving e...  ...      3433198\n",
              "3  I was sold access to an event digitally, of wh...  ...      3366475\n",
              "4  While checking my credit report I noticed thre...  ...      3385399\n",
              "\n",
              "[5 rows x 5 columns]"
            ]
          },
          "metadata": {
            "tags": []
          },
          "execution_count": 3
        }
      ]
    },
    {
      "cell_type": "code",
      "metadata": {
        "id": "g_7G_cciJidk",
        "colab_type": "code",
        "outputId": "e08beea6-52c9-44e9-9661-453728bd76bf",
        "colab": {
          "base_uri": "https://localhost:8080/",
          "height": 119
        }
      },
      "source": [
        "df['Company response to consumer'].value_counts()"
      ],
      "execution_count": 0,
      "outputs": [
        {
          "output_type": "execute_result",
          "data": {
            "text/plain": [
              "Closed with explanation            385665\n",
              "Closed with non-monetary relief     56652\n",
              "Closed with monetary relief         26882\n",
              "Closed                               3661\n",
              "Untimely response                    3082\n",
              "Name: Company response to consumer, dtype: int64"
            ]
          },
          "metadata": {
            "tags": []
          },
          "execution_count": 4
        }
      ]
    },
    {
      "cell_type": "code",
      "metadata": {
        "id": "JLaZe_toJvvO",
        "colab_type": "code",
        "colab": {}
      },
      "source": [
        "def renaming(text):\n",
        "  if text == 'Closed with explanation':\n",
        "    return 'Others'\n",
        "  elif text == 'Closed':\n",
        "    return 'Others'\n",
        "  elif text == 'Untimely response':\n",
        "    return 'Others'\n",
        "  else:\n",
        "    return text"
      ],
      "execution_count": 0,
      "outputs": []
    },
    {
      "cell_type": "code",
      "metadata": {
        "id": "b1zmkfZBKD0P",
        "colab_type": "code",
        "outputId": "131916f9-7859-46a5-b679-9e67090874db",
        "colab": {
          "base_uri": "https://localhost:8080/",
          "height": 34
        }
      },
      "source": [
        "df['Company response to consumer'] = df['Company response to consumer'].progress_apply(renaming)"
      ],
      "execution_count": 0,
      "outputs": [
        {
          "output_type": "stream",
          "text": [
            "100%|██████████| 475942/475942 [00:00<00:00, 1123288.51it/s]\n"
          ],
          "name": "stderr"
        }
      ]
    },
    {
      "cell_type": "code",
      "metadata": {
        "id": "rVR22SSnRIHI",
        "colab_type": "code",
        "colab": {}
      },
      "source": [
        "#df.sort_values(by = 'Company response to consumer',ascending=True,inplace=True)"
      ],
      "execution_count": 0,
      "outputs": []
    },
    {
      "cell_type": "code",
      "metadata": {
        "id": "7py8Y7XxRhWb",
        "colab_type": "code",
        "colab": {}
      },
      "source": [
        "#df.head()"
      ],
      "execution_count": 0,
      "outputs": []
    },
    {
      "cell_type": "code",
      "metadata": {
        "id": "FvqXcWxtRmLn",
        "colab_type": "code",
        "outputId": "1eb11a26-90e2-4032-cd2e-704d5f15a679",
        "colab": {
          "base_uri": "https://localhost:8080/",
          "height": 85
        }
      },
      "source": [
        "df['Company response to consumer'].value_counts()"
      ],
      "execution_count": 0,
      "outputs": [
        {
          "output_type": "execute_result",
          "data": {
            "text/plain": [
              "Others                             392408\n",
              "Closed with non-monetary relief     56652\n",
              "Closed with monetary relief         26882\n",
              "Name: Company response to consumer, dtype: int64"
            ]
          },
          "metadata": {
            "tags": []
          },
          "execution_count": 7
        }
      ]
    },
    {
      "cell_type": "code",
      "metadata": {
        "id": "AZc9ljTyR5hZ",
        "colab_type": "code",
        "outputId": "4b0e2791-4a3e-43ad-86e0-033a0465983b",
        "colab": {
          "base_uri": "https://localhost:8080/",
          "height": 306
        }
      },
      "source": [
        "#df = df[:130000]\n",
        "df = df.sample(frac=1).reset_index(drop=True)\n",
        "df.head()"
      ],
      "execution_count": 0,
      "outputs": [
        {
          "output_type": "execute_result",
          "data": {
            "text/html": [
              "<div>\n",
              "<style scoped>\n",
              "    .dataframe tbody tr th:only-of-type {\n",
              "        vertical-align: middle;\n",
              "    }\n",
              "\n",
              "    .dataframe tbody tr th {\n",
              "        vertical-align: top;\n",
              "    }\n",
              "\n",
              "    .dataframe thead th {\n",
              "        text-align: right;\n",
              "    }\n",
              "</style>\n",
              "<table border=\"1\" class=\"dataframe\">\n",
              "  <thead>\n",
              "    <tr style=\"text-align: right;\">\n",
              "      <th></th>\n",
              "      <th>Consumer complaint narrative</th>\n",
              "      <th>Total Clean Text</th>\n",
              "      <th>After Stop Word Removal</th>\n",
              "      <th>Company response to consumer</th>\n",
              "      <th>Complaint ID</th>\n",
              "    </tr>\n",
              "  </thead>\n",
              "  <tbody>\n",
              "    <tr>\n",
              "      <th>0</th>\n",
              "      <td>XXXX XXXX XXXX  XX/XX/XXXX XXXX XXXX XXXX XXXX...</td>\n",
              "      <td>ca  trans union      re acc   to who...</td>\n",
              "      <td>ca trans union acc may concern letter regard n...</td>\n",
              "      <td>Others</td>\n",
              "      <td>2839519</td>\n",
              "    </tr>\n",
              "    <tr>\n",
              "      <th>1</th>\n",
              "      <td>I have unauthorized inquiries on my report tha...</td>\n",
              "      <td>have unauthorized inquiries on my report that...</td>\n",
              "      <td>unauthorized inquiries report trans union fail...</td>\n",
              "      <td>Others</td>\n",
              "      <td>2773546</td>\n",
              "    </tr>\n",
              "    <tr>\n",
              "      <th>2</th>\n",
              "      <td>I cancelled my debit card and ordered a new on...</td>\n",
              "      <td>cancel my debit card and order  new one  rece...</td>\n",
              "      <td>cancel debit card order new one receive tempor...</td>\n",
              "      <td>Closed with monetary relief</td>\n",
              "      <td>3387487</td>\n",
              "    </tr>\n",
              "    <tr>\n",
              "      <th>3</th>\n",
              "      <td>We are using JP Morgan Chase as our lenders fo...</td>\n",
              "      <td>we be use jp morgan chase as our lenders for  ...</td>\n",
              "      <td>use jp morgan chase lenders home mortgage loan...</td>\n",
              "      <td>Others</td>\n",
              "      <td>2175831</td>\n",
              "    </tr>\n",
              "    <tr>\n",
              "      <th>4</th>\n",
              "      <td>I HAVE BEEN WITH XXXX XXXX XXXX SINCE XXXX AND...</td>\n",
              "      <td>have be with    since  and have always pay my...</td>\n",
              "      <td>since always pay balance full every month good...</td>\n",
              "      <td>Others</td>\n",
              "      <td>3185176</td>\n",
              "    </tr>\n",
              "  </tbody>\n",
              "</table>\n",
              "</div>"
            ],
            "text/plain": [
              "                        Consumer complaint narrative  ... Complaint ID\n",
              "0  XXXX XXXX XXXX  XX/XX/XXXX XXXX XXXX XXXX XXXX...  ...      2839519\n",
              "1  I have unauthorized inquiries on my report tha...  ...      2773546\n",
              "2  I cancelled my debit card and ordered a new on...  ...      3387487\n",
              "3  We are using JP Morgan Chase as our lenders fo...  ...      2175831\n",
              "4  I HAVE BEEN WITH XXXX XXXX XXXX SINCE XXXX AND...  ...      3185176\n",
              "\n",
              "[5 rows x 5 columns]"
            ]
          },
          "metadata": {
            "tags": []
          },
          "execution_count": 8
        }
      ]
    },
    {
      "cell_type": "code",
      "metadata": {
        "id": "vDWLXPx2KIuW",
        "colab_type": "code",
        "colab": {}
      },
      "source": [
        "x = df['Total Clean Text']\n",
        "y = df['Company response to consumer']\n",
        "\n",
        "le = LabelEncoder()\n",
        "\n",
        "y = le.fit_transform(y)\n",
        "y = to_categorical(y)"
      ],
      "execution_count": 0,
      "outputs": []
    },
    {
      "cell_type": "code",
      "metadata": {
        "id": "QJKAobaGKiW8",
        "colab_type": "code",
        "colab": {}
      },
      "source": [
        "tokenizer = Tokenizer()\n",
        "\n",
        "tokenizer.fit_on_texts(x)\n",
        "\n",
        "seq = tokenizer.texts_to_sequences(x)\n",
        "\n",
        "pad_seq = pad_sequences(seq,maxlen = 500,padding='post',truncating='pre')"
      ],
      "execution_count": 0,
      "outputs": []
    },
    {
      "cell_type": "code",
      "metadata": {
        "id": "rpq2N6A8Kq5F",
        "colab_type": "code",
        "outputId": "72e2d1ef-210e-4b78-8b76-2fad2bec725c",
        "colab": {
          "base_uri": "https://localhost:8080/",
          "height": 34
        }
      },
      "source": [
        "vocab_size = len(tokenizer.word_index)+1\n",
        "vocab_size"
      ],
      "execution_count": 0,
      "outputs": [
        {
          "output_type": "execute_result",
          "data": {
            "text/plain": [
              "37592"
            ]
          },
          "metadata": {
            "tags": []
          },
          "execution_count": 11
        }
      ]
    },
    {
      "cell_type": "code",
      "metadata": {
        "id": "wMBNyvneK8r6",
        "colab_type": "code",
        "colab": {}
      },
      "source": [
        "embedding_values = {}\n",
        "f = open('/content/drive/My Drive/Embeddings/glove.840B.300d.txt')\n",
        "for line in tqdm(f):\n",
        "  value = line.split(' ')\n",
        "  word = value[0]\n",
        "  coef = np.array(value[1:],dtype = 'float')\n",
        "  if coef is not None:\n",
        "    embedding_values[word] = coef"
      ],
      "execution_count": 0,
      "outputs": []
    },
    {
      "cell_type": "code",
      "metadata": {
        "id": "dYHkAGfKfUpl",
        "colab_type": "code",
        "outputId": "a20830f5-180a-4799-db07-4def0929904d",
        "colab": {
          "base_uri": "https://localhost:8080/",
          "height": 88
        }
      },
      "source": [
        "word2vec = KeyedVectors.load_word2vec_format('/content/drive/My Drive/Embeddings/GoogleNews-vectors-negative300.bin', \\\n",
        "        binary=True)\n",
        "print('Found %s word vectors of word2vec' % len(word2vec.vocab))"
      ],
      "execution_count": 0,
      "outputs": [
        {
          "output_type": "stream",
          "text": [
            "/usr/local/lib/python3.6/dist-packages/smart_open/smart_open_lib.py:253: UserWarning: This function is deprecated, use smart_open.open instead. See the migration notes for details: https://github.com/RaRe-Technologies/smart_open/blob/master/README.rst#migrating-to-the-new-open-function\n",
            "  'See the migration notes for details: %s' % _MIGRATION_NOTES_URL\n"
          ],
          "name": "stderr"
        },
        {
          "output_type": "stream",
          "text": [
            "Found 3000000 word vectors of word2vec\n"
          ],
          "name": "stdout"
        }
      ]
    },
    {
      "cell_type": "code",
      "metadata": {
        "id": "m1vJkMMMLf_w",
        "colab_type": "code",
        "colab": {}
      },
      "source": [
        "all_embds = np.stack(embedding_values.values())\n",
        "mean,std = all_embds.mean(),all_embds.std()\n",
        "mean,std"
      ],
      "execution_count": 0,
      "outputs": []
    },
    {
      "cell_type": "code",
      "metadata": {
        "id": "6Qu0a-jaLtj3",
        "colab_type": "code",
        "colab": {}
      },
      "source": [
        "embedding_matrix = np.random.normal(mean,std,(vocab_size,300))\n",
        "for word,i in tqdm(tokenizer.word_index.items()):\n",
        "  value = embedding_values.get(word)\n",
        "  if value is not None:\n",
        "    embedding_matrix[i] = value"
      ],
      "execution_count": 0,
      "outputs": []
    },
    {
      "cell_type": "code",
      "metadata": {
        "id": "71HKwh4yfo2c",
        "colab_type": "code",
        "colab": {}
      },
      "source": [
        "embedding_matrix = np.zeros((vocab_size, 300))\n",
        "for word, i in tokenizer.word_index.items():\n",
        "    if word in word2vec.vocab:\n",
        "        embedding_matrix[i] = word2vec.word_vec(word)"
      ],
      "execution_count": 0,
      "outputs": []
    },
    {
      "cell_type": "code",
      "metadata": {
        "id": "0TpZB49cNsNP",
        "colab_type": "code",
        "outputId": "d4791f96-ad3d-4301-9c77-4c01ae68d6b1",
        "colab": {
          "base_uri": "https://localhost:8080/",
          "height": 34
        }
      },
      "source": [
        "from keras import backend as K\n",
        "\n",
        "def recall_m(y_true, y_pred):\n",
        "    true_positives = K.sum(K.round(K.clip(y_true * y_pred, 0, 1)))\n",
        "    possible_positives = K.sum(K.round(K.clip(y_true, 0, 1)))\n",
        "    recall = true_positives / (possible_positives + K.epsilon())\n",
        "    return recall\n",
        "\n",
        "def precision_m(y_true, y_pred):\n",
        "    true_positives = K.sum(K.round(K.clip(y_true * y_pred, 0, 1)))\n",
        "    predicted_positives = K.sum(K.round(K.clip(y_pred, 0, 1)))\n",
        "    precision = true_positives / (predicted_positives + K.epsilon())\n",
        "    return precision\n",
        "\n",
        "def f1_m(y_true, y_pred):\n",
        "    precision = precision_m(y_true, y_pred)\n",
        "    recall = recall_m(y_true, y_pred)\n",
        "    return 2*((precision*recall)/(precision+recall+K.epsilon()))"
      ],
      "execution_count": 0,
      "outputs": [
        {
          "output_type": "stream",
          "text": [
            "Using TensorFlow backend.\n"
          ],
          "name": "stderr"
        }
      ]
    },
    {
      "cell_type": "code",
      "metadata": {
        "id": "7O4aE-jZMn8z",
        "colab_type": "code",
        "colab": {}
      },
      "source": [
        "model = Sequential()\n",
        "model.add(Embedding(vocab_size,300,input_length=500,weights = [embedding_matrix],trainable = False))\n",
        "model.add(GRU(32,return_sequences=False))\n",
        "# model.add(Convolution1D(32,2,activation = 'relu'))\n",
        "# model.add(GlobalMaxPool1D())\n",
        "model.add(Dense(128,activation = 'relu'))\n",
        "model.add(Dense(3,activation = 'softmax'))\n",
        "\n",
        "model.compile(optimizer = 'adam',loss = 'categorical_crossentropy',metrics = ['accuracy',f1_m,precision_m,recall_m])"
      ],
      "execution_count": 0,
      "outputs": []
    },
    {
      "cell_type": "code",
      "metadata": {
        "id": "a4SUpSjrIu3Y",
        "colab_type": "code",
        "colab": {}
      },
      "source": [
        "from sklearn.model_selection import train_test_split\n",
        "x_train,x_test,y_train,y_test = train_test_split(pad_seq,y,test_size = 0.15,random_state= 42)"
      ],
      "execution_count": 0,
      "outputs": []
    },
    {
      "cell_type": "code",
      "metadata": {
        "id": "V1UD3wFgNtIY",
        "colab_type": "code",
        "outputId": "77d1760f-dc36-4225-840b-bd09899594f9",
        "colab": {
          "base_uri": "https://localhost:8080/",
          "height": 292
        }
      },
      "source": [
        "model.fit(pad_seq,y,batch_size = 32,epochs = 7,validation_split = 0.15 )"
      ],
      "execution_count": 0,
      "outputs": [
        {
          "output_type": "stream",
          "text": [
            "Epoch 1/7\n",
            "12643/12643 [==============================] - 258s 20ms/step - loss: 0.5468 - accuracy: 0.8246 - f1_m: 0.8230 - precision_m: 0.8242 - recall_m: 0.8222 - val_loss: 0.4839 - val_accuracy: 0.8246 - val_f1_m: 0.8244 - val_precision_m: 0.8257 - val_recall_m: 0.8233\n",
            "Epoch 2/7\n",
            "12643/12643 [==============================] - 255s 20ms/step - loss: 0.4700 - accuracy: 0.8260 - f1_m: 0.8253 - precision_m: 0.8292 - recall_m: 0.8216 - val_loss: 0.4618 - val_accuracy: 0.8270 - val_f1_m: 0.8263 - val_precision_m: 0.8317 - val_recall_m: 0.8212\n",
            "Epoch 3/7\n",
            "12643/12643 [==============================] - 259s 20ms/step - loss: 0.4540 - accuracy: 0.8283 - f1_m: 0.8275 - precision_m: 0.8318 - recall_m: 0.8234 - val_loss: 0.4529 - val_accuracy: 0.8294 - val_f1_m: 0.8286 - val_precision_m: 0.8335 - val_recall_m: 0.8240\n",
            "Epoch 4/7\n",
            "12643/12643 [==============================] - 257s 20ms/step - loss: 0.4455 - accuracy: 0.8299 - f1_m: 0.8291 - precision_m: 0.8334 - recall_m: 0.8250 - val_loss: 0.4502 - val_accuracy: 0.8299 - val_f1_m: 0.8292 - val_precision_m: 0.8337 - val_recall_m: 0.8248\n",
            "Epoch 5/7\n",
            "12643/12643 [==============================] - 255s 20ms/step - loss: 0.4396 - accuracy: 0.8311 - f1_m: 0.8303 - precision_m: 0.8344 - recall_m: 0.8264 - val_loss: 0.4472 - val_accuracy: 0.8306 - val_f1_m: 0.8294 - val_precision_m: 0.8357 - val_recall_m: 0.8234\n",
            "Epoch 6/7\n",
            "12643/12643 [==============================] - 256s 20ms/step - loss: 0.4348 - accuracy: 0.8325 - f1_m: 0.8317 - precision_m: 0.8359 - recall_m: 0.8277 - val_loss: 0.4468 - val_accuracy: 0.8306 - val_f1_m: 0.8304 - val_precision_m: 0.8332 - val_recall_m: 0.8276\n",
            "Epoch 7/7\n",
            "12643/12643 [==============================] - 255s 20ms/step - loss: 0.4305 - accuracy: 0.8329 - f1_m: 0.8321 - precision_m: 0.8364 - recall_m: 0.8280 - val_loss: 0.4465 - val_accuracy: 0.8319 - val_f1_m: 0.8307 - val_precision_m: 0.8365 - val_recall_m: 0.8252\n"
          ],
          "name": "stdout"
        },
        {
          "output_type": "execute_result",
          "data": {
            "text/plain": [
              "<tensorflow.python.keras.callbacks.History at 0x7fd52064b0b8>"
            ]
          },
          "metadata": {
            "tags": []
          },
          "execution_count": 19
        }
      ]
    },
    {
      "cell_type": "code",
      "metadata": {
        "id": "l2zleDmCN-1T",
        "colab_type": "code",
        "colab": {}
      },
      "source": [
        "model.save('Consumer response Word2Vec 1000 Length.h5')"
      ],
      "execution_count": 0,
      "outputs": []
    },
    {
      "cell_type": "code",
      "metadata": {
        "id": "NNfKrledMX0G",
        "colab_type": "code",
        "colab": {}
      },
      "source": [
        "import pickle\n",
        "\n",
        "# saving\n",
        "with open('tokenizer_Consumer_response_Word2Vec_1000_Length.pickle', 'wb') as handle:\n",
        "    pickle.dump(tokenizer, handle, protocol=pickle.HIGHEST_PROTOCOL)"
      ],
      "execution_count": 0,
      "outputs": []
    },
    {
      "cell_type": "code",
      "metadata": {
        "id": "J6ABcGEEMn9I",
        "colab_type": "code",
        "outputId": "c0bccfc5-a20d-4aa8-f1de-9e341397c61b",
        "colab": {
          "base_uri": "https://localhost:8080/",
          "height": 51
        }
      },
      "source": [
        "le.classes_"
      ],
      "execution_count": 0,
      "outputs": [
        {
          "output_type": "execute_result",
          "data": {
            "text/plain": [
              "array(['Closed with monetary relief', 'Closed with non-monetary relief',\n",
              "       'Others'], dtype=object)"
            ]
          },
          "metadata": {
            "tags": []
          },
          "execution_count": 24
        }
      ]
    },
    {
      "cell_type": "code",
      "metadata": {
        "id": "6Gxz3Peko2GP",
        "colab_type": "code",
        "colab": {}
      },
      "source": [
        ""
      ],
      "execution_count": 0,
      "outputs": []
    }
  ]
}